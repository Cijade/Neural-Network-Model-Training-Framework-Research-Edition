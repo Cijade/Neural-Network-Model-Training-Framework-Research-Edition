{
 "cells": [
  {
   "cell_type": "code",
   "execution_count": 1,
   "metadata": {},
   "outputs": [],
   "source": [
    "import pandas as pd\n",
    "import matplotlib.pyplot as plt\n",
    "import seaborn as sns\n",
    "import numpy as np"
   ]
  },
  {
   "cell_type": "code",
   "execution_count": 3,
   "metadata": {},
   "outputs": [
    {
     "data": {
      "text/html": [
       "<div>\n",
       "<style scoped>\n",
       "    .dataframe tbody tr th:only-of-type {\n",
       "        vertical-align: middle;\n",
       "    }\n",
       "\n",
       "    .dataframe tbody tr th {\n",
       "        vertical-align: top;\n",
       "    }\n",
       "\n",
       "    .dataframe thead th {\n",
       "        text-align: right;\n",
       "    }\n",
       "</style>\n",
       "<table border=\"1\" class=\"dataframe\">\n",
       "  <thead>\n",
       "    <tr style=\"text-align: right;\">\n",
       "      <th></th>\n",
       "      <th>date</th>\n",
       "      <th>rainfall</th>\n",
       "      <th>depth_to_groundwater</th>\n",
       "      <th>temperature</th>\n",
       "      <th>drainage_volume</th>\n",
       "      <th>river_hydrometry</th>\n",
       "    </tr>\n",
       "  </thead>\n",
       "  <tbody>\n",
       "    <tr>\n",
       "      <th>0</th>\n",
       "      <td>01.01.2009 00:00:00</td>\n",
       "      <td>0.0</td>\n",
       "      <td>-31.14</td>\n",
       "      <td>5.2</td>\n",
       "      <td>-24530.688</td>\n",
       "      <td>2.4</td>\n",
       "    </tr>\n",
       "    <tr>\n",
       "      <th>1</th>\n",
       "      <td>01.02.2009 00:00:00</td>\n",
       "      <td>0.0</td>\n",
       "      <td>-31.11</td>\n",
       "      <td>2.3</td>\n",
       "      <td>-28785.888</td>\n",
       "      <td>2.5</td>\n",
       "    </tr>\n",
       "    <tr>\n",
       "      <th>2</th>\n",
       "      <td>01.03.2009 00:00:00</td>\n",
       "      <td>0.0</td>\n",
       "      <td>-31.07</td>\n",
       "      <td>4.4</td>\n",
       "      <td>-25766.208</td>\n",
       "      <td>2.4</td>\n",
       "    </tr>\n",
       "    <tr>\n",
       "      <th>3</th>\n",
       "      <td>01.04.2009 00:00:00</td>\n",
       "      <td>0.0</td>\n",
       "      <td>-31.05</td>\n",
       "      <td>0.8</td>\n",
       "      <td>-27919.296</td>\n",
       "      <td>2.4</td>\n",
       "    </tr>\n",
       "    <tr>\n",
       "      <th>4</th>\n",
       "      <td>01.05.2009 00:00:00</td>\n",
       "      <td>0.0</td>\n",
       "      <td>-31.01</td>\n",
       "      <td>-1.9</td>\n",
       "      <td>-29854.656</td>\n",
       "      <td>2.3</td>\n",
       "    </tr>\n",
       "  </tbody>\n",
       "</table>\n",
       "</div>"
      ],
      "text/plain": [
       "                  date  rainfall  depth_to_groundwater  temperature  \\\n",
       "0  01.01.2009 00:00:00       0.0                -31.14          5.2   \n",
       "1  01.02.2009 00:00:00       0.0                -31.11          2.3   \n",
       "2  01.03.2009 00:00:00       0.0                -31.07          4.4   \n",
       "3  01.04.2009 00:00:00       0.0                -31.05          0.8   \n",
       "4  01.05.2009 00:00:00       0.0                -31.01         -1.9   \n",
       "\n",
       "   drainage_volume  river_hydrometry  \n",
       "0       -24530.688               2.4  \n",
       "1       -28785.888               2.5  \n",
       "2       -25766.208               2.4  \n",
       "3       -27919.296               2.4  \n",
       "4       -29854.656               2.3  "
      ]
     },
     "execution_count": 3,
     "metadata": {},
     "output_type": "execute_result"
    }
   ],
   "source": [
    "df = pd.read_csv(\"Water/Aquifer_Petrignano copy.csv\")\n",
    "df.head()\n"
   ]
  },
  {
   "cell_type": "code",
   "execution_count": 4,
   "metadata": {},
   "outputs": [],
   "source": [
    "df.fillna(0.001, inplace=True)\n",
    "df.to_csv(\"Water/Aquifer_Petrignano1.csv\", index=False)"
   ]
  }
 ],
 "metadata": {
  "kernelspec": {
   "display_name": "newenv",
   "language": "python",
   "name": "python3"
  },
  "language_info": {
   "codemirror_mode": {
    "name": "ipython",
    "version": 3
   },
   "file_extension": ".py",
   "mimetype": "text/x-python",
   "name": "python",
   "nbconvert_exporter": "python",
   "pygments_lexer": "ipython3",
   "version": "3.11.9"
  }
 },
 "nbformat": 4,
 "nbformat_minor": 2
}
